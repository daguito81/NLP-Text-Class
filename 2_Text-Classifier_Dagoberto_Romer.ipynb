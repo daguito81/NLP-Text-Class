{
 "cells": [
  {
   "cell_type": "markdown",
   "metadata": {},
   "source": [
    "# Python Assignment 2 - Text Classification\n",
    "**Dagoberto Romer**"
   ]
  },
  {
   "cell_type": "markdown",
   "metadata": {},
   "source": [
    "## Importing Libraries"
   ]
  },
  {
   "cell_type": "code",
   "execution_count": 1,
   "metadata": {},
   "outputs": [],
   "source": [
    "import time\n",
    "import string\n",
    "import numpy as np\n",
    "import pandas as pd\n",
    "import matplotlib.pyplot as plt\n",
    "import seaborn as sns\n",
    "%matplotlib inline"
   ]
  },
  {
   "cell_type": "code",
   "execution_count": 2,
   "metadata": {},
   "outputs": [],
   "source": [
    "import warnings\n",
    "warnings.filterwarnings('ignore')"
   ]
  },
  {
   "cell_type": "code",
   "execution_count": 3,
   "metadata": {},
   "outputs": [],
   "source": [
    "# import jtplot module in notebook\n",
    "from jupyterthemes import jtplot\n",
    "# choose which theme to inherit plotting style from\n",
    "# onedork | grade3 | oceans16 | chesterish | monokai | solarizedl | solarizedd\n",
    "jtplot.style(theme='gruvboxd')"
   ]
  },
  {
   "cell_type": "markdown",
   "metadata": {},
   "source": [
    "## Importing Text Data"
   ]
  },
  {
   "cell_type": "code",
   "execution_count": 4,
   "metadata": {},
   "outputs": [],
   "source": [
    "start_script = time.time()"
   ]
  },
  {
   "cell_type": "code",
   "execution_count": 5,
   "metadata": {},
   "outputs": [],
   "source": [
    "from sklearn.datasets import load_files"
   ]
  },
  {
   "cell_type": "markdown",
   "metadata": {},
   "source": [
    "The folder \"unsup\" inside the train folder was deleted as those are not labeled. Becuase we're working on windos and to avoid unsupported commands, we removed the folder manually"
   ]
  },
  {
   "cell_type": "markdown",
   "metadata": {},
   "source": [
    "We use the `load_files()` function in sklearn as it already reads the folder structure as is and assigns targets depending on the name of the folders, pos = 1 and neg = 0.  \n",
    "We also use `load_content=True` and encoding utf8 so it reads it as a String instead of a Byte so we can use feature extraction classes in sklearn"
   ]
  },
  {
   "cell_type": "markdown",
   "metadata": {},
   "source": [
    "**Note:** This text loading function might take a few minutes, I suspect it has to do with the Windows Defender as its CPU usage shoots up as well. I can only guess that it's scanning every file as it loads. On my Desktop it takes about 3 minutes to load"
   ]
  },
  {
   "cell_type": "code",
   "execution_count": 6,
   "metadata": {},
   "outputs": [],
   "source": [
    "reviews_train = load_files(\"./aclImdb/train/\", load_content=True,\n",
    "                           encoding='utf8', categories=['pos', 'neg'])\n",
    "reviews_test = load_files(\"./aclImdb/test/\", load_content=True,\n",
    "                          encoding='utf8', categories=['pos', 'neg'])"
   ]
  },
  {
   "cell_type": "code",
   "execution_count": 7,
   "metadata": {},
   "outputs": [],
   "source": [
    "train = pd.DataFrame(reviews_train.data, columns=['review'])\n",
    "train['sentiment'] = reviews_train.target\n",
    "test = pd.DataFrame(reviews_test.data, columns=['review'])\n",
    "test['sentiment'] = reviews_test.target"
   ]
  },
  {
   "cell_type": "code",
   "execution_count": 8,
   "metadata": {
    "cell_style": "split"
   },
   "outputs": [
    {
     "data": {
      "text/html": [
       "<div>\n",
       "<style scoped>\n",
       "    .dataframe tbody tr th:only-of-type {\n",
       "        vertical-align: middle;\n",
       "    }\n",
       "\n",
       "    .dataframe tbody tr th {\n",
       "        vertical-align: top;\n",
       "    }\n",
       "\n",
       "    .dataframe thead th {\n",
       "        text-align: right;\n",
       "    }\n",
       "</style>\n",
       "<table border=\"1\" class=\"dataframe\">\n",
       "  <thead>\n",
       "    <tr style=\"text-align: right;\">\n",
       "      <th></th>\n",
       "      <th>review</th>\n",
       "      <th>sentiment</th>\n",
       "    </tr>\n",
       "  </thead>\n",
       "  <tbody>\n",
       "    <tr>\n",
       "      <th>0</th>\n",
       "      <td>Zero Day leads you to think, even re-think why...</td>\n",
       "      <td>1</td>\n",
       "    </tr>\n",
       "    <tr>\n",
       "      <th>1</th>\n",
       "      <td>Words can't describe how bad this movie is. I ...</td>\n",
       "      <td>0</td>\n",
       "    </tr>\n",
       "    <tr>\n",
       "      <th>2</th>\n",
       "      <td>Everyone plays their part pretty well in this ...</td>\n",
       "      <td>1</td>\n",
       "    </tr>\n",
       "    <tr>\n",
       "      <th>3</th>\n",
       "      <td>There are a lot of highly talented filmmakers/...</td>\n",
       "      <td>0</td>\n",
       "    </tr>\n",
       "    <tr>\n",
       "      <th>4</th>\n",
       "      <td>I've just had the evidence that confirmed my s...</td>\n",
       "      <td>0</td>\n",
       "    </tr>\n",
       "  </tbody>\n",
       "</table>\n",
       "</div>"
      ],
      "text/plain": [
       "                                              review  sentiment\n",
       "0  Zero Day leads you to think, even re-think why...          1\n",
       "1  Words can't describe how bad this movie is. I ...          0\n",
       "2  Everyone plays their part pretty well in this ...          1\n",
       "3  There are a lot of highly talented filmmakers/...          0\n",
       "4  I've just had the evidence that confirmed my s...          0"
      ]
     },
     "execution_count": 8,
     "metadata": {},
     "output_type": "execute_result"
    }
   ],
   "source": [
    "train.head()"
   ]
  },
  {
   "cell_type": "code",
   "execution_count": 9,
   "metadata": {
    "cell_style": "split"
   },
   "outputs": [
    {
     "data": {
      "text/html": [
       "<div>\n",
       "<style scoped>\n",
       "    .dataframe tbody tr th:only-of-type {\n",
       "        vertical-align: middle;\n",
       "    }\n",
       "\n",
       "    .dataframe tbody tr th {\n",
       "        vertical-align: top;\n",
       "    }\n",
       "\n",
       "    .dataframe thead th {\n",
       "        text-align: right;\n",
       "    }\n",
       "</style>\n",
       "<table border=\"1\" class=\"dataframe\">\n",
       "  <thead>\n",
       "    <tr style=\"text-align: right;\">\n",
       "      <th></th>\n",
       "      <th>review</th>\n",
       "      <th>sentiment</th>\n",
       "    </tr>\n",
       "  </thead>\n",
       "  <tbody>\n",
       "    <tr>\n",
       "      <th>0</th>\n",
       "      <td>Don't hate Heather Graham because she's beauti...</td>\n",
       "      <td>1</td>\n",
       "    </tr>\n",
       "    <tr>\n",
       "      <th>1</th>\n",
       "      <td>I don't know how this movie has received so ma...</td>\n",
       "      <td>0</td>\n",
       "    </tr>\n",
       "    <tr>\n",
       "      <th>2</th>\n",
       "      <td>I caught this movie on the Horror Channel and ...</td>\n",
       "      <td>1</td>\n",
       "    </tr>\n",
       "    <tr>\n",
       "      <th>3</th>\n",
       "      <td>NBC had a chance to make a powerful religious ...</td>\n",
       "      <td>0</td>\n",
       "    </tr>\n",
       "    <tr>\n",
       "      <th>4</th>\n",
       "      <td>Looking for something shocking? Okay fine... t...</td>\n",
       "      <td>0</td>\n",
       "    </tr>\n",
       "  </tbody>\n",
       "</table>\n",
       "</div>"
      ],
      "text/plain": [
       "                                              review  sentiment\n",
       "0  Don't hate Heather Graham because she's beauti...          1\n",
       "1  I don't know how this movie has received so ma...          0\n",
       "2  I caught this movie on the Horror Channel and ...          1\n",
       "3  NBC had a chance to make a powerful religious ...          0\n",
       "4  Looking for something shocking? Okay fine... t...          0"
      ]
     },
     "execution_count": 9,
     "metadata": {},
     "output_type": "execute_result"
    }
   ],
   "source": [
    "test.head()"
   ]
  },
  {
   "cell_type": "markdown",
   "metadata": {},
   "source": [
    "We have a DataFrame for each train and test sets. Consisting fo 2 columns, text and target"
   ]
  },
  {
   "cell_type": "code",
   "execution_count": 10,
   "metadata": {
    "cell_style": "split"
   },
   "outputs": [
    {
     "name": "stdout",
     "output_type": "stream",
     "text": [
      "<class 'pandas.core.frame.DataFrame'>\n",
      "RangeIndex: 25000 entries, 0 to 24999\n",
      "Data columns (total 2 columns):\n",
      "review       25000 non-null object\n",
      "sentiment    25000 non-null int32\n",
      "dtypes: int32(1), object(1)\n",
      "memory usage: 293.0+ KB\n"
     ]
    }
   ],
   "source": [
    "train.info()"
   ]
  },
  {
   "cell_type": "code",
   "execution_count": 11,
   "metadata": {
    "cell_style": "split"
   },
   "outputs": [
    {
     "name": "stdout",
     "output_type": "stream",
     "text": [
      "<class 'pandas.core.frame.DataFrame'>\n",
      "RangeIndex: 25000 entries, 0 to 24999\n",
      "Data columns (total 2 columns):\n",
      "review       25000 non-null object\n",
      "sentiment    25000 non-null int32\n",
      "dtypes: int32(1), object(1)\n",
      "memory usage: 293.0+ KB\n"
     ]
    }
   ],
   "source": [
    "test.info()"
   ]
  },
  {
   "cell_type": "markdown",
   "metadata": {},
   "source": [
    "Each set has 25000 entries"
   ]
  },
  {
   "cell_type": "code",
   "execution_count": 12,
   "metadata": {
    "cell_style": "split"
   },
   "outputs": [
    {
     "data": {
      "text/html": [
       "<div>\n",
       "<style scoped>\n",
       "    .dataframe tbody tr th:only-of-type {\n",
       "        vertical-align: middle;\n",
       "    }\n",
       "\n",
       "    .dataframe tbody tr th {\n",
       "        vertical-align: top;\n",
       "    }\n",
       "\n",
       "    .dataframe thead th {\n",
       "        text-align: right;\n",
       "    }\n",
       "</style>\n",
       "<table border=\"1\" class=\"dataframe\">\n",
       "  <thead>\n",
       "    <tr style=\"text-align: right;\">\n",
       "      <th></th>\n",
       "      <th>review</th>\n",
       "    </tr>\n",
       "    <tr>\n",
       "      <th>sentiment</th>\n",
       "      <th></th>\n",
       "    </tr>\n",
       "  </thead>\n",
       "  <tbody>\n",
       "    <tr>\n",
       "      <th>0</th>\n",
       "      <td>12500</td>\n",
       "    </tr>\n",
       "    <tr>\n",
       "      <th>1</th>\n",
       "      <td>12500</td>\n",
       "    </tr>\n",
       "  </tbody>\n",
       "</table>\n",
       "</div>"
      ],
      "text/plain": [
       "           review\n",
       "sentiment        \n",
       "0           12500\n",
       "1           12500"
      ]
     },
     "execution_count": 12,
     "metadata": {},
     "output_type": "execute_result"
    }
   ],
   "source": [
    "train.groupby('sentiment').count()"
   ]
  },
  {
   "cell_type": "code",
   "execution_count": 13,
   "metadata": {
    "cell_style": "split"
   },
   "outputs": [
    {
     "data": {
      "text/html": [
       "<div>\n",
       "<style scoped>\n",
       "    .dataframe tbody tr th:only-of-type {\n",
       "        vertical-align: middle;\n",
       "    }\n",
       "\n",
       "    .dataframe tbody tr th {\n",
       "        vertical-align: top;\n",
       "    }\n",
       "\n",
       "    .dataframe thead th {\n",
       "        text-align: right;\n",
       "    }\n",
       "</style>\n",
       "<table border=\"1\" class=\"dataframe\">\n",
       "  <thead>\n",
       "    <tr style=\"text-align: right;\">\n",
       "      <th></th>\n",
       "      <th>review</th>\n",
       "    </tr>\n",
       "    <tr>\n",
       "      <th>sentiment</th>\n",
       "      <th></th>\n",
       "    </tr>\n",
       "  </thead>\n",
       "  <tbody>\n",
       "    <tr>\n",
       "      <th>0</th>\n",
       "      <td>12500</td>\n",
       "    </tr>\n",
       "    <tr>\n",
       "      <th>1</th>\n",
       "      <td>12500</td>\n",
       "    </tr>\n",
       "  </tbody>\n",
       "</table>\n",
       "</div>"
      ],
      "text/plain": [
       "           review\n",
       "sentiment        \n",
       "0           12500\n",
       "1           12500"
      ]
     },
     "execution_count": 13,
     "metadata": {},
     "output_type": "execute_result"
    }
   ],
   "source": [
    "test.groupby('sentiment').count()"
   ]
  },
  {
   "cell_type": "markdown",
   "metadata": {},
   "source": [
    "Each set is equally divided by 50% bad sentiment (0) and good sentiment (1).  \n",
    "We can then use accuracy as our main metric as there is no inbalance in the set."
   ]
  },
  {
   "cell_type": "markdown",
   "metadata": {},
   "source": [
    "## Data Quality Issues"
   ]
  },
  {
   "cell_type": "markdown",
   "metadata": {},
   "source": [
    "We know that we have some html breaks as `<br />` that we can replace with regular spaces.  \n",
    "We also have some punctuations, numbers and single character words that don't provide any additional information so we want to remove them.  \n",
    "We create a function we can pass through the Dataframe so we can apply it to every review. As we will use replace to take out the breaks. we will run 2 different applies"
   ]
  },
  {
   "cell_type": "code",
   "execution_count": 14,
   "metadata": {},
   "outputs": [],
   "source": [
    "def clean_line(line):\n",
    "    # split into tokens by white space\n",
    "    tokens = line.split()\n",
    "    # remove punctuation from each token\n",
    "    table = str.maketrans('', '', string.punctuation)\n",
    "    tokens = [w.translate(table) for w in tokens]\n",
    "    # remove remaining tokens that are not alphabetic\n",
    "    tokens = [word for word in tokens if word.isalpha()]\n",
    "    # filter out short tokens\n",
    "    tokens = [word for word in tokens if len(word) > 1]\n",
    "    line = \" \".join(tokens)\n",
    "    return line"
   ]
  },
  {
   "cell_type": "code",
   "execution_count": 15,
   "metadata": {},
   "outputs": [],
   "source": [
    "# Train Set:\n",
    "train['review'] = train['review'].apply(lambda x: x.replace(\"<br />\", \" \"))\n",
    "train['review'] = train['review'].apply(lambda line: clean_line(line))\n",
    "\n",
    "# Test Set\n",
    "test['review'] = test['review'].apply(lambda x: x.replace(\"<br />\", \" \"))\n",
    "test['review'] = test['review'].apply(lambda line: clean_line(line))"
   ]
  },
  {
   "cell_type": "markdown",
   "metadata": {
    "cell_style": "center"
   },
   "source": [
    "We check the text of one review we knew it contained a break and \"sub-par\""
   ]
  },
  {
   "cell_type": "code",
   "execution_count": 16,
   "metadata": {
    "cell_style": "center"
   },
   "outputs": [
    {
     "data": {
      "text/plain": [
       "'The Movie was subpar but this Television Pilot delivers great springboard into what has become SciFi fans Ideal program The Actors deliver and the special effects for television series are spectacular Having an intelligent interesting script doesnt hurt either Stargate is currently one of my favorite programs'"
      ]
     },
     "execution_count": 16,
     "metadata": {},
     "output_type": "execute_result"
    }
   ],
   "source": [
    "train.iloc[5]['review']"
   ]
  },
  {
   "cell_type": "markdown",
   "metadata": {},
   "source": [
    " "
   ]
  },
  {
   "cell_type": "markdown",
   "metadata": {},
   "source": [
    "## Preprocessing"
   ]
  },
  {
   "cell_type": "markdown",
   "metadata": {},
   "source": [
    "### X/y Split"
   ]
  },
  {
   "cell_type": "markdown",
   "metadata": {},
   "source": [
    "First we split our Data into features and targets, Text Feature functions like CountVectorizer and TfidfVectorizer require the text to be set as a list of document instead of a dataframe or a pd.Series. So we will change our data to match that accordingly"
   ]
  },
  {
   "cell_type": "code",
   "execution_count": 17,
   "metadata": {},
   "outputs": [],
   "source": [
    "X_train = train['review'].tolist()\n",
    "y_train = train['sentiment']\n",
    "X_test = test['review'].tolist()\n",
    "y_test = test['sentiment']"
   ]
  },
  {
   "cell_type": "markdown",
   "metadata": {},
   "source": [
    "### Text Features"
   ]
  },
  {
   "cell_type": "code",
   "execution_count": 18,
   "metadata": {},
   "outputs": [],
   "source": [
    "from sklearn.feature_extraction.text import CountVectorizer, TfidfVectorizer\n",
    "from sklearn.feature_extraction.text import ENGLISH_STOP_WORDS"
   ]
  },
  {
   "cell_type": "markdown",
   "metadata": {},
   "source": [
    "We can use either CountVectorizer or TfidfVectorizer:  \n",
    " - CountVectorizer simply counts ever 2 or more letter word, all in lowercase and split by any word boundaries\n",
    " - TFIDF calculates the Term Frecuency and Inverse Document Frecuency, giving less importance to words that appear in every document (words that are very common and not representative)"
   ]
  },
  {
   "cell_type": "markdown",
   "metadata": {},
   "source": [
    "Another thing that's useful is to remove stopwords in our set. This is basically removing words that are so common in the language that they provide basically no information for text analysis.  \n",
    "Lastly we set a minimum appeareance of 5 to remove all words that were mispelled or particular to only 1 document"
   ]
  },
  {
   "cell_type": "markdown",
   "metadata": {},
   "source": [
    "**We'll start using the simpler `CountVectorizer()`**"
   ]
  },
  {
   "cell_type": "code",
   "execution_count": 19,
   "metadata": {},
   "outputs": [],
   "source": [
    "vect = CountVectorizer(min_df=5, stop_words='english')"
   ]
  },
  {
   "cell_type": "code",
   "execution_count": 20,
   "metadata": {},
   "outputs": [
    {
     "data": {
      "text/plain": [
       "CountVectorizer(analyzer='word', binary=False, decode_error='strict',\n",
       "        dtype=<class 'numpy.int64'>, encoding='utf-8', input='content',\n",
       "        lowercase=True, max_df=1.0, max_features=None, min_df=5,\n",
       "        ngram_range=(1, 1), preprocessor=None, stop_words='english',\n",
       "        strip_accents=None, token_pattern='(?u)\\\\b\\\\w\\\\w+\\\\b',\n",
       "        tokenizer=None, vocabulary=None)"
      ]
     },
     "execution_count": 20,
     "metadata": {},
     "output_type": "execute_result"
    }
   ],
   "source": [
    "vect.fit(X_train)"
   ]
  },
  {
   "cell_type": "code",
   "execution_count": 21,
   "metadata": {},
   "outputs": [
    {
     "data": {
      "text/plain": [
       "<25000x28001 sparse matrix of type '<class 'numpy.int64'>'\n",
       "\twith 2102670 stored elements in Compressed Sparse Row format>"
      ]
     },
     "execution_count": 21,
     "metadata": {},
     "output_type": "execute_result"
    }
   ],
   "source": [
    "new_X_train = vect.transform(X_train)\n",
    "new_X_train"
   ]
  },
  {
   "cell_type": "markdown",
   "metadata": {},
   "source": [
    "This gives us a sparse matrix if 25000 rows by almost 27k features. If we had left the `min_df=1` and the stopwords, this would've been more than 70k features"
   ]
  },
  {
   "cell_type": "markdown",
   "metadata": {},
   "source": [
    " "
   ]
  },
  {
   "cell_type": "markdown",
   "metadata": {},
   "source": [
    "## ML Section"
   ]
  },
  {
   "cell_type": "code",
   "execution_count": 22,
   "metadata": {},
   "outputs": [],
   "source": [
    "start_ml_basic = time.time()"
   ]
  },
  {
   "cell_type": "markdown",
   "metadata": {},
   "source": [
    "### Basic Model"
   ]
  },
  {
   "cell_type": "markdown",
   "metadata": {},
   "source": [
    "As we have a very wide sparse matrix where features > rows, a linear model is our best bet"
   ]
  },
  {
   "cell_type": "code",
   "execution_count": 23,
   "metadata": {},
   "outputs": [],
   "source": [
    "from sklearn.linear_model import LogisticRegression\n",
    "from sklearn.model_selection import cross_val_score, GridSearchCV"
   ]
  },
  {
   "cell_type": "code",
   "execution_count": 24,
   "metadata": {},
   "outputs": [],
   "source": [
    "lr_model = LogisticRegression()"
   ]
  },
  {
   "cell_type": "code",
   "execution_count": 25,
   "metadata": {},
   "outputs": [
    {
     "name": "stdout",
     "output_type": "stream",
     "text": [
      "Mean Cross Validation Accuracy: 0.87\n"
     ]
    }
   ],
   "source": [
    "cv_scores = cross_val_score(lr_model, new_X_train, y_train, cv=10, n_jobs=-1)\n",
    "print(\"Mean Cross Validation Accuracy: {}\".format(round(np.mean(cv_scores), 2)))"
   ]
  },
  {
   "cell_type": "markdown",
   "metadata": {},
   "source": [
    "We can also try to optimize the model by gridsearching for the C parameter in the model"
   ]
  },
  {
   "cell_type": "code",
   "execution_count": 26,
   "metadata": {},
   "outputs": [],
   "source": [
    "param_grid = {\n",
    "    'C': [0.001, 0.01, 0.1, 1, 10, 100]\n",
    "}"
   ]
  },
  {
   "cell_type": "code",
   "execution_count": 27,
   "metadata": {},
   "outputs": [],
   "source": [
    "grid = GridSearchCV(LogisticRegression(),\n",
    "                    param_grid=param_grid, cv=5, n_jobs=-1)"
   ]
  },
  {
   "cell_type": "code",
   "execution_count": 28,
   "metadata": {},
   "outputs": [
    {
     "name": "stdout",
     "output_type": "stream",
     "text": [
      "Best CV Score: 0.88192\n",
      "Best Parameters: {'C': 0.1}\n"
     ]
    }
   ],
   "source": [
    "grid.fit(new_X_train, y_train)\n",
    "print(\"Best CV Score: {}\".format(grid.best_score_))\n",
    "print(\"Best Parameters: {}\".format(grid.best_params_))"
   ]
  },
  {
   "cell_type": "code",
   "execution_count": 29,
   "metadata": {},
   "outputs": [
    {
     "data": {
      "text/html": [
       "<div>\n",
       "<style scoped>\n",
       "    .dataframe tbody tr th:only-of-type {\n",
       "        vertical-align: middle;\n",
       "    }\n",
       "\n",
       "    .dataframe tbody tr th {\n",
       "        vertical-align: top;\n",
       "    }\n",
       "\n",
       "    .dataframe thead th {\n",
       "        text-align: right;\n",
       "    }\n",
       "</style>\n",
       "<table border=\"1\" class=\"dataframe\">\n",
       "  <thead>\n",
       "    <tr style=\"text-align: right;\">\n",
       "      <th></th>\n",
       "      <th>param_C</th>\n",
       "      <th>mean_test_score</th>\n",
       "    </tr>\n",
       "  </thead>\n",
       "  <tbody>\n",
       "    <tr>\n",
       "      <th>0</th>\n",
       "      <td>0.001</td>\n",
       "      <td>0.84228</td>\n",
       "    </tr>\n",
       "    <tr>\n",
       "      <th>1</th>\n",
       "      <td>0.01</td>\n",
       "      <td>0.87628</td>\n",
       "    </tr>\n",
       "    <tr>\n",
       "      <th>2</th>\n",
       "      <td>0.1</td>\n",
       "      <td>0.88192</td>\n",
       "    </tr>\n",
       "    <tr>\n",
       "      <th>3</th>\n",
       "      <td>1</td>\n",
       "      <td>0.87280</td>\n",
       "    </tr>\n",
       "    <tr>\n",
       "      <th>4</th>\n",
       "      <td>10</td>\n",
       "      <td>0.86548</td>\n",
       "    </tr>\n",
       "    <tr>\n",
       "      <th>5</th>\n",
       "      <td>100</td>\n",
       "      <td>0.86036</td>\n",
       "    </tr>\n",
       "  </tbody>\n",
       "</table>\n",
       "</div>"
      ],
      "text/plain": [
       "  param_C  mean_test_score\n",
       "0   0.001          0.84228\n",
       "1    0.01          0.87628\n",
       "2     0.1          0.88192\n",
       "3       1          0.87280\n",
       "4      10          0.86548\n",
       "5     100          0.86036"
      ]
     },
     "execution_count": 29,
     "metadata": {},
     "output_type": "execute_result"
    }
   ],
   "source": [
    "pd.DataFrame(grid.cv_results_).loc[:, ['param_C', 'mean_test_score']]"
   ]
  },
  {
   "cell_type": "markdown",
   "metadata": {},
   "source": [
    "We also test our data against the test set (transformed by the same vectorizer) to make sure our model is able to generalize with new data"
   ]
  },
  {
   "cell_type": "code",
   "execution_count": 30,
   "metadata": {},
   "outputs": [],
   "source": [
    "# Use the same vectorizer to have the same features\n",
    "new_X_test = vect.transform(X_test)"
   ]
  },
  {
   "cell_type": "code",
   "execution_count": 31,
   "metadata": {},
   "outputs": [
    {
     "data": {
      "text/plain": [
       "0.87344"
      ]
     },
     "execution_count": 31,
     "metadata": {},
     "output_type": "execute_result"
    }
   ],
   "source": [
    "grid.score(new_X_test, y_test)"
   ]
  },
  {
   "cell_type": "markdown",
   "metadata": {},
   "source": [
    "The score is fairly close to our Cross Validation Score. So our model is generalizing well"
   ]
  },
  {
   "cell_type": "markdown",
   "metadata": {},
   "source": [
    " "
   ]
  },
  {
   "cell_type": "markdown",
   "metadata": {},
   "source": [
    "### Advanced Model 1"
   ]
  },
  {
   "cell_type": "code",
   "execution_count": 32,
   "metadata": {},
   "outputs": [],
   "source": [
    "start_ml_adv = time.time()"
   ]
  },
  {
   "cell_type": "markdown",
   "metadata": {},
   "source": [
    "For the 1st advanced model we will use:  \n",
    " - NLTK Stopwords\n",
    " - Lemmatization (commented out because of time requirements)\n",
    " - TFIDF\n",
    " - Up to 3 words ngrams\n",
    " - Model Tuning using Pipelines"
   ]
  },
  {
   "cell_type": "code",
   "execution_count": 33,
   "metadata": {},
   "outputs": [
    {
     "name": "stderr",
     "output_type": "stream",
     "text": [
      "[nltk_data] Downloading package stopwords to\n",
      "[nltk_data]     C:\\Users\\Dagoberto\\AppData\\Roaming\\nltk_data...\n",
      "[nltk_data]   Package stopwords is already up-to-date!\n",
      "[nltk_data] Downloading package wordnet to\n",
      "[nltk_data]     C:\\Users\\Dagoberto\\AppData\\Roaming\\nltk_data...\n",
      "[nltk_data]   Package wordnet is already up-to-date!\n"
     ]
    }
   ],
   "source": [
    "from sklearn.pipeline import make_pipeline\n",
    "from nltk import WordNetLemmatizer as wnl\n",
    "import nltk\n",
    "nltk.download('stopwords')\n",
    "nltk.download('wordnet')\n",
    "stopwords = nltk.corpus.stopwords.words('english')"
   ]
  },
  {
   "cell_type": "markdown",
   "metadata": {},
   "source": [
    "We will reprocess the data to do lemmatization. This process can take a couple of minutes to run:  \n",
    " - Lemmatization works by transforming the word into it's lemma. This is based on using WordNet's morphy\n"
   ]
  },
  {
   "cell_type": "code",
   "execution_count": 34,
   "metadata": {},
   "outputs": [
    {
     "name": "stdout",
     "output_type": "stream",
     "text": [
      "foot\n",
      "hanging\n"
     ]
    }
   ],
   "source": [
    "# Lemmatization Example\n",
    "word = 'feet'\n",
    "print(wnl().lemmatize(word))\n",
    "print(wnl().lemmatize('hanging'))"
   ]
  },
  {
   "cell_type": "markdown",
   "metadata": {},
   "source": [
    "**Potential problem:**  \n",
    "We have some words that can have different meanings. So we need to specify the Part of Speech part to the lemmatizer if we want to correctly lemmatize the words, if they are verbs or nouns, etc. In our example, hanging was kept as hanging because we didn't specify it was a verb.  The package we're using allows us to do that but Spacy allows us to do it much easier and faster\n"
   ]
  },
  {
   "cell_type": "markdown",
   "metadata": {},
   "source": [
    "**Note:** If you want to run the spacy lemmatization you might not be able to run the Convolutional Neural Network and the LSTM. After testing, the lemmatization also didn't have any improvement on the scores"
   ]
  },
  {
   "cell_type": "code",
   "execution_count": 35,
   "metadata": {},
   "outputs": [],
   "source": [
    "# import spacy\n",
    "# nlp = spacy.load('en', disable=['parser', 'ner'])"
   ]
  },
  {
   "cell_type": "code",
   "execution_count": 36,
   "metadata": {},
   "outputs": [],
   "source": [
    "# We create a lemmatizer function here\n",
    "# def lemmatizer_spacy(line):\n",
    "#    doc = nlp(line)\n",
    "#    line = \" \".join([token.lemma_ for token in doc])\n",
    "#    return line"
   ]
  },
  {
   "cell_type": "code",
   "execution_count": 37,
   "metadata": {},
   "outputs": [],
   "source": [
    "# Testing\n",
    "# line = \"We are running from hanging hangers because you and I are not here\"\n",
    "# lemmatizer_spacy(line)"
   ]
  },
  {
   "cell_type": "markdown",
   "metadata": {},
   "source": [
    "In our nonsensical example, we can see how it differentiates hanging as  a verb, and hangers as the plural of hanger and pronouns are just -PRON-  and are turns into be. So we will use this on our files and see if it makes it better.  \n",
    "**Note:** As this will take a long time to train, we will do it separately instead of in the pipeline so it doesn't run every time (on my desktop this next cell takes 8 minutes to complete)"
   ]
  },
  {
   "cell_type": "markdown",
   "metadata": {},
   "source": [
    "Lemmatization takes over 8 minutes to run and it didn't improve any of our models. We leave it commented as to be able to run the entire notebook faster. If you want to run lemmatization, uncomment the next 2 lines in the cell"
   ]
  },
  {
   "cell_type": "code",
   "execution_count": 38,
   "metadata": {},
   "outputs": [],
   "source": [
    "# train['review'] = train['review'].apply(lambda x: lemmatizer_spacy(x))\n",
    "# test['review'] = test['review'].apply(lambda x: lemmatizer_spacy(x))"
   ]
  },
  {
   "cell_type": "code",
   "execution_count": 39,
   "metadata": {},
   "outputs": [],
   "source": [
    "X_train = train['review'].tolist()\n",
    "y_train = train['sentiment']\n",
    "X_test = test['review'].tolist()\n",
    "y_test = test['sentiment']"
   ]
  },
  {
   "cell_type": "code",
   "execution_count": 40,
   "metadata": {},
   "outputs": [],
   "source": [
    "stop_adv_preprocess = time.time()"
   ]
  },
  {
   "cell_type": "markdown",
   "metadata": {},
   "source": [
    "We create a pipeline that will grab our processed data thgouhg a TFIDF Vectorizer and then into a Logistic Regression model (because of the ease and speed, we have more complicated models later on)"
   ]
  },
  {
   "cell_type": "code",
   "execution_count": 41,
   "metadata": {},
   "outputs": [],
   "source": [
    "pipe = make_pipeline(TfidfVectorizer(\n",
    "    min_df=5, stop_words=stopwords), LogisticRegression())"
   ]
  },
  {
   "cell_type": "code",
   "execution_count": 42,
   "metadata": {},
   "outputs": [],
   "source": [
    "param_grid = {\n",
    "    'tfidfvectorizer__ngram_range': [(1, 2), (1, 3), (1, 4)],\n",
    "    'logisticregression__C': [5, 10, 15]\n",
    "}"
   ]
  },
  {
   "cell_type": "code",
   "execution_count": 43,
   "metadata": {},
   "outputs": [],
   "source": [
    "grid = GridSearchCV(pipe, param_grid=param_grid, n_jobs=-1, cv=3, verbose=1)"
   ]
  },
  {
   "cell_type": "code",
   "execution_count": 44,
   "metadata": {},
   "outputs": [
    {
     "name": "stdout",
     "output_type": "stream",
     "text": [
      "Fitting 3 folds for each of 9 candidates, totalling 27 fits\n"
     ]
    },
    {
     "name": "stderr",
     "output_type": "stream",
     "text": [
      "[Parallel(n_jobs=-1)]: Using backend LokyBackend with 4 concurrent workers.\n",
      "[Parallel(n_jobs=-1)]: Done  27 out of  27 | elapsed:  4.0min finished\n"
     ]
    },
    {
     "data": {
      "text/plain": [
       "GridSearchCV(cv=3, error_score='raise-deprecating',\n",
       "       estimator=Pipeline(memory=None,\n",
       "     steps=[('tfidfvectorizer', TfidfVectorizer(analyzer='word', binary=False, decode_error='strict',\n",
       "        dtype=<class 'numpy.float64'>, encoding='utf-8', input='content',\n",
       "        lowercase=True, max_df=1.0, max_features=None, min_df=5,\n",
       "        ngram_range=(1, 1), norm='l2', preprocessor=None, smooth...penalty='l2', random_state=None, solver='warn',\n",
       "          tol=0.0001, verbose=0, warm_start=False))]),\n",
       "       fit_params=None, iid='warn', n_jobs=-1,\n",
       "       param_grid={'tfidfvectorizer__ngram_range': [(1, 2), (1, 3), (1, 4)], 'logisticregression__C': [5, 10, 15]},\n",
       "       pre_dispatch='2*n_jobs', refit=True, return_train_score='warn',\n",
       "       scoring=None, verbose=1)"
      ]
     },
     "execution_count": 44,
     "metadata": {},
     "output_type": "execute_result"
    }
   ],
   "source": [
    "grid.fit(X_train, y_train)"
   ]
  },
  {
   "cell_type": "code",
   "execution_count": 45,
   "metadata": {},
   "outputs": [
    {
     "data": {
      "text/plain": [
       "{'logisticregression__C': 10, 'tfidfvectorizer__ngram_range': (1, 3)}"
      ]
     },
     "execution_count": 45,
     "metadata": {},
     "output_type": "execute_result"
    }
   ],
   "source": [
    "grid.best_params_"
   ]
  },
  {
   "cell_type": "code",
   "execution_count": 46,
   "metadata": {},
   "outputs": [
    {
     "data": {
      "text/plain": [
       "0.89492"
      ]
     },
     "execution_count": 46,
     "metadata": {},
     "output_type": "execute_result"
    }
   ],
   "source": [
    "grid.best_score_"
   ]
  },
  {
   "cell_type": "markdown",
   "metadata": {},
   "source": [
    "We get 89.4% accuracy with this model, using (1, 3) ngram range and a C of 10.  \n"
   ]
  },
  {
   "cell_type": "code",
   "execution_count": 47,
   "metadata": {},
   "outputs": [],
   "source": [
    "results = pd.DataFrame(grid.cv_results_)"
   ]
  },
  {
   "cell_type": "code",
   "execution_count": 48,
   "metadata": {},
   "outputs": [],
   "source": [
    "res_table = results.pivot_table(\n",
    "    'mean_test_score', 'param_tfidfvectorizer__ngram_range', 'param_logisticregression__C')"
   ]
  },
  {
   "cell_type": "code",
   "execution_count": 49,
   "metadata": {},
   "outputs": [
    {
     "data": {
      "text/plain": [
       "<matplotlib.axes._subplots.AxesSubplot at 0x16e1727e6d8>"
      ]
     },
     "execution_count": 49,
     "metadata": {},
     "output_type": "execute_result"
    },
    {
     "data": {
      "image/png": "[encoded data removed]",
      "text/plain": [
       "<Figure size 460.8x403.2 with 2 Axes>"
      ]
     },
     "metadata": {},
     "output_type": "display_data"
    }
   ],
   "source": [
    "sns.heatmap(res_table, annot=True, fmt=\".3f\", cmap=\"viridis\",)"
   ]
  },
  {
   "cell_type": "code",
   "execution_count": 50,
   "metadata": {},
   "outputs": [
    {
     "name": "stdout",
     "output_type": "stream",
     "text": [
      "Mean Cross Validation Accuracy: 0.89\n"
     ]
    }
   ],
   "source": [
    "print(\"Mean Cross Validation Accuracy: {}\".format(round(grid.best_score_, 2)))"
   ]
  },
  {
   "cell_type": "code",
   "execution_count": 51,
   "metadata": {},
   "outputs": [
    {
     "name": "stdout",
     "output_type": "stream",
     "text": [
      "Test Score Accuracy: 0.89\n"
     ]
    }
   ],
   "source": [
    "print(\"Test Score Accuracy: {}\".format(round(grid.score(X_test, y_test), 2)))"
   ]
  },
  {
   "cell_type": "markdown",
   "metadata": {},
   "source": [
    "The numbers are really close to each other so the model is also generalizing"
   ]
  },
  {
   "cell_type": "markdown",
   "metadata": {},
   "source": [
    " "
   ]
  },
  {
   "cell_type": "markdown",
   "metadata": {},
   "source": [
    "### Naive Bayes"
   ]
  },
  {
   "cell_type": "code",
   "execution_count": 52,
   "metadata": {},
   "outputs": [],
   "source": [
    "start_ml_nb = time.time()"
   ]
  },
  {
   "cell_type": "markdown",
   "metadata": {},
   "source": [
    "Naive Bayes was used a lot in spam detection filters, so it makes sense to use it for sentiment analysis as it's a binary classification problem from the words in the document."
   ]
  },
  {
   "cell_type": "code",
   "execution_count": 53,
   "metadata": {},
   "outputs": [],
   "source": [
    "from sklearn.naive_bayes import GaussianNB\n",
    "from sklearn.base import TransformerMixin"
   ]
  },
  {
   "cell_type": "code",
   "execution_count": 54,
   "metadata": {},
   "outputs": [],
   "source": [
    "class DenseTransformer(TransformerMixin):\n",
    "\n",
    "    def fit(self, X, y=None, **fit_params):\n",
    "        return self\n",
    "\n",
    "    def transform(self, X, y=None, **fit_params):\n",
    "        return X.todense()"
   ]
  },
  {
   "cell_type": "code",
   "execution_count": 55,
   "metadata": {},
   "outputs": [],
   "source": [
    "pipe = make_pipeline(TfidfVectorizer(\n",
    "    min_df=5, stop_words=stopwords, ngram_range=(1, 1), ), DenseTransformer(), GaussianNB())"
   ]
  },
  {
   "cell_type": "markdown",
   "metadata": {},
   "source": [
    "These 2 lines are commented because Naive Bayes requires the matrix to be dense which will increase the memory footprint by a LOT. And the score is not even close to using Log Reg. So we leave it commented. Also we run into Memory Errors when we try more than 1,1 ngrams. So we have to keep it at 1,1"
   ]
  },
  {
   "cell_type": "code",
   "execution_count": 56,
   "metadata": {},
   "outputs": [],
   "source": [
    "# pipe.fit(X_train, y_train)"
   ]
  },
  {
   "cell_type": "code",
   "execution_count": 57,
   "metadata": {},
   "outputs": [],
   "source": [
    "# pipe.score(X_test, y_test)\n",
    "# 0.6288"
   ]
  },
  {
   "cell_type": "markdown",
   "metadata": {},
   "source": [
    "The score is MUCH worse than using Logistic Regression and the memory footprint to do this was huge in comparison so there is no reason to pursue this model further"
   ]
  },
  {
   "cell_type": "markdown",
   "metadata": {},
   "source": [
    "### SUPER Advanced Models"
   ]
  },
  {
   "cell_type": "markdown",
   "metadata": {},
   "source": [
    "For these models we're using Tensorflow and Keras as its high level API to build, train and test the models. We're going to use 3 different approaches to see if they are any better than a simple logistic regression"
   ]
  },
  {
   "cell_type": "markdown",
   "metadata": {},
   "source": [
    "These models we're trained using a GTX1070 to speed up the process. Beware of running these cells with a laptop. "
   ]
  },
  {
   "cell_type": "markdown",
   "metadata": {},
   "source": [
    "For this Model we will use Neural networks\n",
    " - Dense Neural network\n",
    " - Convolutional Neural network\n",
    " - LSTM Network"
   ]
  },
  {
   "cell_type": "markdown",
   "metadata": {},
   "source": [
    "From our previous experiments, we can see that (1,3) ngram was the best, but it will also increse our features substantially. As we already know 1 epoch of (1, 1) ngrams will take about 12 seconds with a GPU, we go ahead and do it for (1, 3).  \n",
    "*Note*: We tried with (1, 3) ngram range but the memory requirement is higher than what we have availabe and we get a Resource Exhausted error. So we keep it at (1, 1)"
   ]
  },
  {
   "cell_type": "code",
   "execution_count": 58,
   "metadata": {},
   "outputs": [],
   "source": [
    "ct_vec = CountVectorizer(stop_words=stopwords, min_df=5, ngram_range=(1, 1))\n",
    "vec = TfidfVectorizer(stop_words=stopwords, min_df=5, ngram_range=(1, 1))"
   ]
  },
  {
   "cell_type": "code",
   "execution_count": 59,
   "metadata": {},
   "outputs": [],
   "source": [
    "vec.fit(X_train)  # We will try the tfidf vectorizer\n",
    "new_X_train = vec.transform(X_train)\n",
    "new_X_test = vec.transform(X_test)"
   ]
  },
  {
   "cell_type": "code",
   "execution_count": 60,
   "metadata": {},
   "outputs": [
    {
     "data": {
      "text/plain": [
       "<25000x28178 sparse matrix of type '<class 'numpy.float64'>'\n",
       "\twith 2370371 stored elements in Compressed Sparse Row format>"
      ]
     },
     "execution_count": 60,
     "metadata": {},
     "output_type": "execute_result"
    }
   ],
   "source": [
    "new_X_train"
   ]
  },
  {
   "cell_type": "markdown",
   "metadata": {},
   "source": [
    "#### Convolutional Neural Network"
   ]
  },
  {
   "cell_type": "code",
   "execution_count": 61,
   "metadata": {},
   "outputs": [],
   "source": [
    "import tensorflow as tf"
   ]
  },
  {
   "cell_type": "markdown",
   "metadata": {},
   "source": [
    "Whenever we run the Dense neural network first, we run into a problem. might be realted to memory and resources as the DNN is the one with the most parameters to train. So we will run CNN then LSTM and DNN at the end "
   ]
  },
  {
   "cell_type": "code",
   "execution_count": 62,
   "metadata": {},
   "outputs": [],
   "source": [
    "start_nn_cnn = time.time()"
   ]
  },
  {
   "cell_type": "markdown",
   "metadata": {},
   "source": [
    "Convolutional Networks require the features to be in index form. Instead of a simple sparse matrix"
   ]
  },
  {
   "cell_type": "code",
   "execution_count": 63,
   "metadata": {},
   "outputs": [
    {
     "name": "stdout",
     "output_type": "stream",
     "text": [
      "[12387, 25063]\n",
      "[28131, 6121, 14209, 25177, 8456, 20805, 26038, 15677, 27869, 4781, 16549, 24330, 26866, 22888, 4364, 3559, 16528, 2307, 2427, 16101, 26038, 12045, 6223, 27735, 4790, 4315, 17539, 6307, 27840, 26866, 5477, 6598, 18322, 16375, 10410, 9263, 220, 20496, 19356, 25031, 8681, 16335, 207, 26038, 28064, 2287, 7903, 25031, 9246, 10313, 22829, 8932, 8932, 2287, 9246, 686, 1045, 14469, 21996, 9441, 11848, 25037, 11850]\n"
     ]
    }
   ],
   "source": [
    "word2idx = {word: idx for idx, word in enumerate(vec.get_feature_names())}\n",
    "tokenize = vec.build_tokenizer()\n",
    "preprocess = vec.build_preprocessor()\n",
    "\n",
    "\n",
    "def to_sequence(tokenizer, preprocessor, index, text):\n",
    "    words = tokenizer(preprocessor(text))\n",
    "    indexes = [index[word] for word in words if word in index]\n",
    "    return indexes\n",
    "\n",
    "\n",
    "print(to_sequence(tokenize, preprocess, word2idx, \"This is an important test!\"))\n",
    "X_train_sequences = [to_sequence(\n",
    "    tokenize, preprocess, word2idx, x) for x in X_train]\n",
    "print(X_train_sequences[0])  # This shows the words that are on every line"
   ]
  },
  {
   "cell_type": "code",
   "execution_count": 64,
   "metadata": {},
   "outputs": [
    {
     "name": "stdout",
     "output_type": "stream",
     "text": [
      "MAX_SEQ_LENGHT= 1290\n"
     ]
    },
    {
     "name": "stderr",
     "output_type": "stream",
     "text": [
      "Using TensorFlow backend.\n"
     ]
    },
    {
     "name": "stdout",
     "output_type": "stream",
     "text": [
      "[28178 28178 28178 ... 27840  2287 17413]\n"
     ]
    }
   ],
   "source": [
    "# Compute the max lenght of a text\n",
    "from keras.preprocessing.sequence import pad_sequences\n",
    "MAX_SEQ_LENGHT = len(max(X_train_sequences, key=len))\n",
    "print(\"MAX_SEQ_LENGHT=\", MAX_SEQ_LENGHT)\n",
    "\n",
    "N_FEATURES = len(vec.get_feature_names())\n",
    "# This creates a padded sequence so every row has the same number of features\n",
    "X_train_sequences = pad_sequences(\n",
    "    X_train_sequences, maxlen=MAX_SEQ_LENGHT, value=N_FEATURES)\n",
    "print(X_train_sequences[1])"
   ]
  },
  {
   "cell_type": "code",
   "execution_count": 65,
   "metadata": {},
   "outputs": [
    {
     "data": {
      "text/plain": [
       "(25000, 1290)"
      ]
     },
     "execution_count": 65,
     "metadata": {},
     "output_type": "execute_result"
    }
   ],
   "source": [
    "X_train_sequences.shape"
   ]
  },
  {
   "cell_type": "markdown",
   "metadata": {},
   "source": [
    "This means that the maximum review we have had 1405 words. And it meant that it grabbed every row and made it have the same ammount of \"words\" by padding each sequence with a number which is the last value in our features (so it's still the inside the feature matrix)"
   ]
  },
  {
   "cell_type": "code",
   "execution_count": 66,
   "metadata": {},
   "outputs": [
    {
     "name": "stdout",
     "output_type": "stream",
     "text": [
      "_________________________________________________________________\n",
      "Layer (type)                 Output Shape              Param #   \n",
      "=================================================================\n",
      "embedding_1 (Embedding)      (None, 1290, 64)          1803456   \n",
      "_________________________________________________________________\n",
      "conv1d_1 (Conv1D)            (None, 1286, 64)          20544     \n",
      "_________________________________________________________________\n",
      "max_pooling1d_1 (MaxPooling1 (None, 257, 64)           0         \n",
      "_________________________________________________________________\n",
      "flatten_1 (Flatten)          (None, 16448)             0         \n",
      "_________________________________________________________________\n",
      "dense_1 (Dense)              (None, 64)                1052736   \n",
      "_________________________________________________________________\n",
      "dense_2 (Dense)              (None, 32)                2080      \n",
      "_________________________________________________________________\n",
      "dense_3 (Dense)              (None, 1)                 33        \n",
      "=================================================================\n",
      "Total params: 2,878,849\n",
      "Trainable params: 2,878,849\n",
      "Non-trainable params: 0\n",
      "_________________________________________________________________\n"
     ]
    }
   ],
   "source": [
    "from keras.models import Sequential\n",
    "from keras.layers import Dense, Conv1D, MaxPooling1D, Flatten, Embedding, Dropout\n",
    "\n",
    "model = Sequential()\n",
    "model.add(Embedding(len(vec.get_feature_names()) + 1,\n",
    "                    64,  # Embedding Size\n",
    "                    input_length=MAX_SEQ_LENGHT))\n",
    "model.add(Conv1D(64, 5, activation='relu'))\n",
    "model.add(MaxPooling1D(5))\n",
    "model.add(Flatten())\n",
    "model.add(Dense(64, activation='relu'))\n",
    "model.add(Dense(32, activation='relu'))\n",
    "model.add(Dense(1, activation='sigmoid'))\n",
    "\n",
    "model.compile(optimizer='adam', loss='binary_crossentropy',\n",
    "              metrics=['accuracy'])\n",
    "model.summary()"
   ]
  },
  {
   "cell_type": "code",
   "execution_count": 67,
   "metadata": {
    "scrolled": true
   },
   "outputs": [
    {
     "name": "stdout",
     "output_type": "stream",
     "text": [
      "Train on 20000 samples, validate on 5000 samples\n",
      "Epoch 1/5\n",
      " - 6s - loss: 0.5006 - acc: 0.7111 - val_loss: 0.2984 - val_acc: 0.8774\n",
      "Epoch 2/5\n",
      " - 4s - loss: 0.1835 - acc: 0.9315 - val_loss: 0.2947 - val_acc: 0.8832\n",
      "Epoch 3/5\n",
      " - 4s - loss: 0.0698 - acc: 0.9788 - val_loss: 0.4075 - val_acc: 0.8760\n",
      "Epoch 4/5\n",
      " - 4s - loss: 0.0230 - acc: 0.9946 - val_loss: 0.5276 - val_acc: 0.8760\n",
      "Epoch 5/5\n",
      " - 4s - loss: 0.0065 - acc: 0.9988 - val_loss: 0.6275 - val_acc: 0.8760\n"
     ]
    },
    {
     "data": {
      "text/plain": [
       "<keras.callbacks.History at 0x16e25e2fef0>"
      ]
     },
     "execution_count": 67,
     "metadata": {},
     "output_type": "execute_result"
    }
   ],
   "source": [
    "model.fit(X_train_sequences[:-5000], y_train[:-5000],\n",
    "          epochs=5, batch_size=128, verbose=2,\n",
    "          validation_data=(X_train_sequences[-5000:], y_train[-5000:]),\n",
    "          )"
   ]
  },
  {
   "cell_type": "code",
   "execution_count": 68,
   "metadata": {},
   "outputs": [],
   "source": [
    "X_test_sequences = [to_sequence(\n",
    "    tokenize, preprocess, word2idx, x) for x in X_test]\n",
    "X_test_sequences = pad_sequences(\n",
    "    X_test_sequences, maxlen=MAX_SEQ_LENGHT, value=N_FEATURES)"
   ]
  },
  {
   "cell_type": "code",
   "execution_count": 69,
   "metadata": {},
   "outputs": [
    {
     "name": "stdout",
     "output_type": "stream",
     "text": [
      "25000/25000 [==============================] - 2s 77us/step\n",
      "Accuracy: 0.84992\n"
     ]
    }
   ],
   "source": [
    "scores = model.evaluate(X_test_sequences, y_test)\n",
    "print(\"Accuracy: {}\".format(scores[1]))"
   ]
  },
  {
   "cell_type": "markdown",
   "metadata": {},
   "source": [
    "We get slightly worse scores than the original Logistic Regression"
   ]
  },
  {
   "cell_type": "markdown",
   "metadata": {},
   "source": [
    "#### Dense Neural Network"
   ]
  },
  {
   "cell_type": "code",
   "execution_count": 70,
   "metadata": {},
   "outputs": [],
   "source": [
    "start_nn_dnn = time.time()"
   ]
  },
  {
   "cell_type": "markdown",
   "metadata": {},
   "source": [
    "Here we create our first model. Based on 1 input, 1 hidden and 1 output dense layer. Activation function is rectified linear."
   ]
  },
  {
   "cell_type": "code",
   "execution_count": 71,
   "metadata": {},
   "outputs": [
    {
     "name": "stdout",
     "output_type": "stream",
     "text": [
      "_________________________________________________________________\n",
      "Layer (type)                 Output Shape              Param #   \n",
      "=================================================================\n",
      "dense_4 (Dense)              (None, 2000)              56358000  \n",
      "_________________________________________________________________\n",
      "dense_5 (Dense)              (None, 1000)              2001000   \n",
      "_________________________________________________________________\n",
      "dense_6 (Dense)              (None, 1)                 1001      \n",
      "=================================================================\n",
      "Total params: 58,360,001\n",
      "Trainable params: 58,360,001\n",
      "Non-trainable params: 0\n",
      "_________________________________________________________________\n"
     ]
    }
   ],
   "source": [
    "from keras.models import Sequential\n",
    "from keras.layers import Dense\n",
    "\n",
    "model = Sequential()\n",
    "model.add(Dense(2000, activation='relu', input_dim=len(vec.get_feature_names())))\n",
    "model.add(Dense(1000, activation='relu'))\n",
    "model.add(Dense(1, activation='sigmoid'))\n",
    "\n",
    "model.compile(loss='binary_crossentropy',\n",
    "              optimizer='adam', metrics=['accuracy'])\n",
    "model.summary()"
   ]
  },
  {
   "cell_type": "markdown",
   "metadata": {},
   "source": [
    "Here we set our Train / Validation Set (this can done using SKLearn wrappers to make cross validation/grid search but we're so outside the scope at this point that prefered to do it this way "
   ]
  },
  {
   "cell_type": "code",
   "execution_count": 72,
   "metadata": {
    "scrolled": true
   },
   "outputs": [
    {
     "name": "stdout",
     "output_type": "stream",
     "text": [
      "Train on 20000 samples, validate on 5000 samples\n",
      "Epoch 1/5\n",
      " - 14s - loss: 0.3308 - acc: 0.8590 - val_loss: 0.2731 - val_acc: 0.8868\n",
      "Epoch 2/5\n",
      " - 12s - loss: 0.0652 - acc: 0.9769 - val_loss: 0.4129 - val_acc: 0.8674\n",
      "Epoch 3/5\n",
      " - 12s - loss: 0.0087 - acc: 0.9972 - val_loss: 0.7014 - val_acc: 0.8658\n",
      "Epoch 4/5\n",
      " - 12s - loss: 7.0719e-04 - acc: 0.9999 - val_loss: 0.8288 - val_acc: 0.8682\n",
      "Epoch 5/5\n",
      " - 12s - loss: 1.2505e-04 - acc: 1.0000 - val_loss: 0.8931 - val_acc: 0.8672\n"
     ]
    },
    {
     "data": {
      "text/plain": [
       "<keras.callbacks.History at 0x16e1b8e9908>"
      ]
     },
     "execution_count": 72,
     "metadata": {},
     "output_type": "execute_result"
    }
   ],
   "source": [
    "model.fit(new_X_train[:-5000], y_train[:-5000], batch_size=128,\n",
    "          epochs=5, verbose=2, validation_data=(new_X_train[-5000:], y_test[-5000:]))"
   ]
  },
  {
   "cell_type": "markdown",
   "metadata": {},
   "source": [
    "From doing 5 epochs we get a validation score around 87.5%"
   ]
  },
  {
   "cell_type": "code",
   "execution_count": 73,
   "metadata": {},
   "outputs": [
    {
     "name": "stdout",
     "output_type": "stream",
     "text": [
      "25000/25000 [==============================] - 6s 231us/step\n",
      "Accuracy: 0.84588\n"
     ]
    }
   ],
   "source": [
    "scores = model.evaluate(new_X_test, y_test)\n",
    "print(\"Accuracy: {}\".format(scores[1]))"
   ]
  },
  {
   "cell_type": "markdown",
   "metadata": {},
   "source": [
    "ALL THIS POWER AND IT DIDNT EVEN GET A BETTER SCORE!!!!\n",
    "\n",
    "We got 87% on Validation and about 83% on Test scores. It was better to just use logistic regression"
   ]
  },
  {
   "cell_type": "markdown",
   "metadata": {},
   "source": [
    "#### LSTM Network"
   ]
  },
  {
   "cell_type": "code",
   "execution_count": 74,
   "metadata": {},
   "outputs": [],
   "source": [
    "start_nn_lstm = time.time()"
   ]
  },
  {
   "cell_type": "markdown",
   "metadata": {},
   "source": [
    "Lastly we will use a Recurrent Neural Network, known as Long Short Term Memory network. These are used a lot in sentiment analysis and natural language processing.  \n",
    "This also reuses the processing we did for the CNN. So no need to redo that "
   ]
  },
  {
   "cell_type": "code",
   "execution_count": 75,
   "metadata": {},
   "outputs": [
    {
     "name": "stdout",
     "output_type": "stream",
     "text": [
      "_________________________________________________________________\n",
      "Layer (type)                 Output Shape              Param #   \n",
      "=================================================================\n",
      "embedding_2 (Embedding)      (None, 1290, 64)          1803456   \n",
      "_________________________________________________________________\n",
      "cu_dnnlstm_1 (CuDNNLSTM)     (None, 64)                33280     \n",
      "_________________________________________________________________\n",
      "dense_7 (Dense)              (None, 1)                 65        \n",
      "=================================================================\n",
      "Total params: 1,836,801\n",
      "Trainable params: 1,836,801\n",
      "Non-trainable params: 0\n",
      "_________________________________________________________________\n"
     ]
    }
   ],
   "source": [
    "from keras.models import Sequential\n",
    "from keras.layers import Dense, LSTM, Embedding, CuDNNLSTM\n",
    "\n",
    "model = Sequential()\n",
    "model.add(Embedding(len(vec.get_feature_names()) + 1,\n",
    "                    64,  # Embedding Size\n",
    "                    input_length=MAX_SEQ_LENGHT))\n",
    "model.add(CuDNNLSTM(64))\n",
    "model.add(Dense(1, activation='sigmoid'))\n",
    "model.compile(optimizer='adam', loss='binary_crossentropy',\n",
    "              metrics=['accuracy'])\n",
    "model.summary()"
   ]
  },
  {
   "cell_type": "code",
   "execution_count": 76,
   "metadata": {},
   "outputs": [
    {
     "name": "stdout",
     "output_type": "stream",
     "text": [
      "Train on 20000 samples, validate on 5000 samples\n",
      "Epoch 1/5\n",
      " - 9s - loss: 0.5182 - acc: 0.7540 - val_loss: 0.3303 - val_acc: 0.8644\n",
      "Epoch 2/5\n",
      " - 9s - loss: 0.2135 - acc: 0.9202 - val_loss: 0.2988 - val_acc: 0.8718\n",
      "Epoch 3/5\n",
      " - 9s - loss: 0.1064 - acc: 0.9671 - val_loss: 0.3540 - val_acc: 0.8718\n",
      "Epoch 4/5\n",
      " - 9s - loss: 0.0559 - acc: 0.9846 - val_loss: 0.4628 - val_acc: 0.8670\n",
      "Epoch 5/5\n",
      " - 9s - loss: 0.0325 - acc: 0.9913 - val_loss: 0.6057 - val_acc: 0.8634\n"
     ]
    },
    {
     "data": {
      "text/plain": [
       "<keras.callbacks.History at 0x16e3f19fb00>"
      ]
     },
     "execution_count": 76,
     "metadata": {},
     "output_type": "execute_result"
    }
   ],
   "source": [
    "model.fit(X_train_sequences[:-5000], y_train[:-5000],\n",
    "          epochs=5, batch_size=128, verbose=2,\n",
    "          validation_data=(X_train_sequences[-5000:], y_train[-5000:]))"
   ]
  },
  {
   "cell_type": "code",
   "execution_count": 77,
   "metadata": {},
   "outputs": [
    {
     "name": "stdout",
     "output_type": "stream",
     "text": [
      "25000/25000 [==============================] - 14s 545us/step\n",
      "Accuracy: 0.84336\n"
     ]
    }
   ],
   "source": [
    "scores = model.evaluate(X_test_sequences, y_test)\n",
    "print(\"Accuracy: {}\".format(scores[1]))"
   ]
  },
  {
   "cell_type": "markdown",
   "metadata": {},
   "source": [
    "I am really dissapointed now..."
   ]
  },
  {
   "cell_type": "code",
   "execution_count": 78,
   "metadata": {},
   "outputs": [],
   "source": [
    "stop_script = time.time()"
   ]
  },
  {
   "cell_type": "markdown",
   "metadata": {},
   "source": [
    "## Conclusions"
   ]
  },
  {
   "cell_type": "markdown",
   "metadata": {},
   "source": [
    "As we can see, the best model was our simpler and first model. We tried improving it by processing the text more, lemmatizing the words, created more complex pipelines and even different kinds of neural networks to try and get a better score. Without any success. "
   ]
  },
  {
   "cell_type": "markdown",
   "metadata": {},
   "source": [
    "In this case it might be because we are not dealing with that many data points. Neural Nets get top flex their muscles when you start running millions and millions of rows through them. In this case it's really easy for the Neural net to overfit into the training data and then have a worse outcome on the validation / test data"
   ]
  },
  {
   "cell_type": "markdown",
   "metadata": {},
   "source": [
    "### Time results"
   ]
  },
  {
   "cell_type": "markdown",
   "metadata": {},
   "source": [
    "All results in minutes"
   ]
  },
  {
   "cell_type": "code",
   "execution_count": 79,
   "metadata": {},
   "outputs": [
    {
     "name": "stdout",
     "output_type": "stream",
     "text": [
      "Total Script: 8.594632323582967\n",
      "Data Processing: 0.29358097712198894\n",
      "Basic ML Model: 0.7495545625686646\n",
      "Lemmatization: 0.04672394990921021\n",
      "Adv ML Model: 5.357212221622467\n",
      "Dense Neural Network: 1.1299321850140889\n",
      "Convolutional Neural Network: 0.5373992363611857\n",
      "Long Short Term Memory Network: 1.0643523772557577\n"
     ]
    }
   ],
   "source": [
    "print(\"Total Script: {}\".format(\n",
    "    (stop_script - start_script) / 60))\n",
    "print(\"Data Processing: {}\".format(\n",
    "    (start_ml_basic - start_script) / 60))\n",
    "print(\"Basic ML Model: {}\".format(\n",
    "    (start_ml_adv - start_ml_basic) / 60))\n",
    "print(\"Lemmatization: {}\".format(\n",
    "    (stop_adv_preprocess - start_ml_adv) / 60))\n",
    "print(\"Adv ML Model: {}\".format(\n",
    "    (start_nn_dnn - start_ml_adv) / 60))\n",
    "print(\"Dense Neural Network: {}\".format(\n",
    "    (start_nn_lstm - start_nn_dnn) / 60))\n",
    "print(\"Convolutional Neural Network: {}\".format(\n",
    "    (start_nn_dnn - start_nn_cnn) / 60))\n",
    "print(\"Long Short Term Memory Network: {}\".format(\n",
    "    (stop_script - start_nn_lstm) / 60))"
   ]
  },
  {
   "cell_type": "code",
   "execution_count": 83,
   "metadata": {},
   "outputs": [],
   "source": [
    "from keras import backend as K\n",
    "import gc"
   ]
  },
  {
   "cell_type": "code",
   "execution_count": 84,
   "metadata": {},
   "outputs": [
    {
     "data": {
      "text/plain": [
       "2046"
      ]
     },
     "execution_count": 84,
     "metadata": {},
     "output_type": "execute_result"
    }
   ],
   "source": [
    "K.clear_session()\n",
    "gc.collect()"
   ]
  },
  {
   "cell_type": "code",
   "execution_count": null,
   "metadata": {},
   "outputs": [],
   "source": []
  }
 ],
 "metadata": {
  "kernelspec": {
   "display_name": "Python [conda env:basicdata]",
   "language": "python",
   "name": "conda-env-basicdata-py"
  },
  "language_info": {
   "codemirror_mode": {
    "name": "ipython",
    "version": 3
   },
   "file_extension": ".py",
   "mimetype": "text/x-python",
   "name": "python",
   "nbconvert_exporter": "python",
   "pygments_lexer": "ipython3",
   "version": "3.6.6"
  },
  "toc": {
   "base_numbering": 1,
   "nav_menu": {},
   "number_sections": true,
   "sideBar": false,
   "skip_h1_title": true,
   "title_cell": "Table of Contents",
   "title_sidebar": "Contents",
   "toc_cell": false,
   "toc_position": {
    "height": "603px",
    "left": "36px",
    "top": "273px",
    "width": "384px"
   },
   "toc_section_display": true,
   "toc_window_display": false
  }
 },
 "nbformat": 4,
 "nbformat_minor": 2
}
